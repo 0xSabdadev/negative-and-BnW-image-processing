{
 "cells": [
  {
   "cell_type": "markdown",
   "metadata": {},
   "source": [
    "Case : Membuat program generate negative image (baik dari gambar berwarna maupun hitam putih) <br>\n",
    "Input : Gambar  <br>\n",
    "Output : Gambar Asli, Gambar Asli dirubah ke Hitam Putih, Hasil Negative dari gambar Asli, dan Hasil Negative dari gambar hitam putih"
   ]
  },
  {
   "cell_type": "code",
   "execution_count": null,
   "metadata": {},
   "outputs": [],
   "source": [
    "# install open-cv jika belum install\n",
    "# pip install opencv-python"
   ]
  },
  {
   "cell_type": "code",
   "execution_count": null,
   "metadata": {},
   "outputs": [],
   "source": [
    "import cv2\n",
    "import matplotlib.pyplot as plt"
   ]
  },
  {
   "cell_type": "code",
   "execution_count": null,
   "metadata": {},
   "outputs": [],
   "source": [
    "imgpath = 'imageTes.jpg'\n",
    "img1 = cv2.imread(imgpath)\n",
    "img = cv2.cvtColor(img1, cv2.COLOR_BGR2RGB)\n",
    "gray = cv2.imread(imgpath, 0)\n",
    "colored_negative  = abs(255-img1)\n",
    "gray_negative  = abs(255-gray)\n",
    "imgs = [img, gray, colored_negative, gray_negative]\n",
    "title = ['coloured', 'gray', 'coloured-negative', 'gray-negative']\n",
    "plt.subplot(2, 2, 1)\n",
    "plt.title(title[0])\n",
    "plt.imshow(imgs[0])\n",
    "plt.xticks([])\n",
    "plt.yticks([])\n",
    "plt.subplot(2, 2, 2)\n",
    "plt.title(title[1])\n",
    "plt.imshow(imgs[1], cmap='gray')\n",
    "plt.xticks([])\n",
    "plt.yticks([])\n",
    "plt.subplot(2, 2, 3)\n",
    "plt.title(title[2])\n",
    "plt.imshow(imgs[2])\n",
    "plt.xticks([])\n",
    "plt.yticks([])\n",
    "plt.subplot(2, 2, 4)\n",
    "plt.title(title[3])\n",
    "plt.imshow(imgs[3], cmap='gray')\n",
    "plt.xticks([])\n",
    "plt.yticks([])\n",
    "plt.show()"
   ]
  }
 ],
 "metadata": {
  "interpreter": {
   "hash": "d6fc47ff5d7ca068a0dac20011dd949547c5eb998df145d6fe0deb59f73ca524"
  },
  "kernelspec": {
   "display_name": "Python 3.8.5 ('base')",
   "language": "python",
   "name": "python3"
  },
  "language_info": {
   "codemirror_mode": {
    "name": "ipython",
    "version": 3
   },
   "file_extension": ".py",
   "mimetype": "text/x-python",
   "name": "python",
   "nbconvert_exporter": "python",
   "pygments_lexer": "ipython3",
   "version": "3.8.5"
  },
  "orig_nbformat": 4
 },
 "nbformat": 4,
 "nbformat_minor": 2
}
